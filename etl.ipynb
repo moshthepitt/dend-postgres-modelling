{
 "cells": [
  {
   "cell_type": "markdown",
   "metadata": {
    "editable": true
   },
   "source": [
    "# ETL Processes\n",
    "Use this notebook to develop the ETL process for each of your tables before completing the `etl.py` file to load the whole datasets."
   ]
  },
  {
   "cell_type": "code",
   "execution_count": 2,
   "metadata": {
    "editable": true
   },
   "outputs": [],
   "source": [
    "import os\n",
    "import glob\n",
    "import psycopg2\n",
    "import pandas as pd\n",
    "from sql_queries import *"
   ]
  },
  {
   "cell_type": "code",
   "execution_count": 3,
   "metadata": {
    "editable": true
   },
   "outputs": [],
   "source": [
    "conn = psycopg2.connect(\"host=127.0.0.1 dbname=sparkifydb user=student password=student\")\n",
    "cur = conn.cursor()"
   ]
  },
  {
   "cell_type": "code",
   "execution_count": 4,
   "metadata": {
    "editable": true
   },
   "outputs": [],
   "source": [
    "def get_files(filepath):\n",
    "    all_files = []\n",
    "    for root, dirs, files in os.walk(filepath):\n",
    "        files = glob.glob(os.path.join(root,'*.json'))\n",
    "        for f in files :\n",
    "            all_files.append(os.path.abspath(f))\n",
    "    \n",
    "    return all_files"
   ]
  },
  {
   "cell_type": "markdown",
   "metadata": {
    "editable": true
   },
   "source": [
    "# Process `song_data`\n",
    "In this first part, you'll perform ETL on the first dataset, `song_data`, to create the `songs` and `artists` dimensional tables.\n",
    "\n",
    "Let's perform ETL on a single song file and load a single record into each table to start.\n",
    "- Use the `get_files` function provided above to get a list of all song JSON files in `data/song_data`\n",
    "- Select the first song in this list\n",
    "- Read the song file and view the data"
   ]
  },
  {
   "cell_type": "code",
   "execution_count": 5,
   "metadata": {
    "editable": true
   },
   "outputs": [],
   "source": [
    "song_files = get_files('data/song_data')"
   ]
  },
  {
   "cell_type": "code",
   "execution_count": 7,
   "metadata": {
    "editable": true
   },
   "outputs": [],
   "source": [
    "filepath = 'data/song_data/A/A/A/TRAAADZ128F9348C2E.json'"
   ]
  },
  {
   "cell_type": "code",
   "execution_count": 9,
   "metadata": {
    "editable": true
   },
   "outputs": [
    {
     "data": {
      "text/html": [
       "<div>\n",
       "<style scoped>\n",
       "    .dataframe tbody tr th:only-of-type {\n",
       "        vertical-align: middle;\n",
       "    }\n",
       "\n",
       "    .dataframe tbody tr th {\n",
       "        vertical-align: top;\n",
       "    }\n",
       "\n",
       "    .dataframe thead th {\n",
       "        text-align: right;\n",
       "    }\n",
       "</style>\n",
       "<table border=\"1\" class=\"dataframe\">\n",
       "  <thead>\n",
       "    <tr style=\"text-align: right;\">\n",
       "      <th></th>\n",
       "      <th>artist_id</th>\n",
       "      <th>artist_latitude</th>\n",
       "      <th>artist_location</th>\n",
       "      <th>artist_longitude</th>\n",
       "      <th>artist_name</th>\n",
       "      <th>duration</th>\n",
       "      <th>num_songs</th>\n",
       "      <th>song_id</th>\n",
       "      <th>title</th>\n",
       "      <th>year</th>\n",
       "    </tr>\n",
       "  </thead>\n",
       "  <tbody>\n",
       "    <tr>\n",
       "      <th>0</th>\n",
       "      <td>ARKRRTF1187B9984DA</td>\n",
       "      <td>None</td>\n",
       "      <td></td>\n",
       "      <td>None</td>\n",
       "      <td>Sonora Santanera</td>\n",
       "      <td>177.475</td>\n",
       "      <td>1</td>\n",
       "      <td>SOXVLOJ12AB0189215</td>\n",
       "      <td>Amor De Cabaret</td>\n",
       "      <td>None</td>\n",
       "    </tr>\n",
       "  </tbody>\n",
       "</table>\n",
       "</div>"
      ],
      "text/plain": [
       "            artist_id artist_latitude artist_location artist_longitude  \\\n",
       "0  ARKRRTF1187B9984DA            None                             None   \n",
       "\n",
       "        artist_name duration  num_songs             song_id            title  \\\n",
       "0  Sonora Santanera  177.475          1  SOXVLOJ12AB0189215  Amor De Cabaret   \n",
       "\n",
       "   year  \n",
       "0  None  "
      ]
     },
     "execution_count": 9,
     "metadata": {},
     "output_type": "execute_result"
    }
   ],
   "source": [
    "# open song file\n",
    "df = pd.read_json(filepath, lines=True)\n",
    "# replace nan with None\n",
    "df = df.where((pd.notnull(df)), None)\n",
    "# replace 0 year with None\n",
    "df.year = df.year.replace({0: None})\n",
    "df.head()"
   ]
  },
  {
   "cell_type": "markdown",
   "metadata": {
    "editable": true
   },
   "source": [
    "## #1: `songs` Table\n",
    "#### Extract Data for Songs Table\n",
    "- Select columns for song ID, title, artist ID, year, and duration\n",
    "- Use `df.values` to select just the values from the dataframe\n",
    "- Index to select the first (only) record in the dataframe\n",
    "- Convert the array to a list and set it to `song_data`"
   ]
  },
  {
   "cell_type": "code",
   "execution_count": 10,
   "metadata": {
    "editable": true
   },
   "outputs": [
    {
     "data": {
      "text/plain": [
       "array(['SOXVLOJ12AB0189215', 'Amor De Cabaret', 'ARKRRTF1187B9984DA', None,\n",
       "       177.47546], dtype=object)"
      ]
     },
     "execution_count": 10,
     "metadata": {},
     "output_type": "execute_result"
    }
   ],
   "source": [
    "song_data = df[[\"song_id\", \"title\", \"artist_id\", \"year\", \"duration\"]].values[0]  # noqa\n",
    "song_data"
   ]
  },
  {
   "cell_type": "markdown",
   "metadata": {
    "editable": true
   },
   "source": [
    "#### Insert Record into Song Table\n",
    "Implement the `song_table_insert` query in `sql_queries.py` and run the cell below to insert a record for this song into the `songs` table. Remember to run `create_tables.py` before running the cell below to ensure you've created/resetted the `songs` table in the sparkify database."
   ]
  },
  {
   "cell_type": "code",
   "execution_count": 11,
   "metadata": {
    "editable": true
   },
   "outputs": [],
   "source": [
    "cur.execute(song_table_insert, song_data)\n",
    "conn.commit()"
   ]
  },
  {
   "cell_type": "markdown",
   "metadata": {
    "editable": true
   },
   "source": [
    "Run `test.ipynb` to see if you've successfully added a record to this table."
   ]
  },
  {
   "cell_type": "markdown",
   "metadata": {
    "editable": true
   },
   "source": [
    "## #2: `artists` Table\n",
    "#### Extract Data for Artists Table\n",
    "- Select columns for artist ID, name, location, latitude, and longitude\n",
    "- Use `df.values` to select just the values from the dataframe\n",
    "- Index to select the first (only) record in the dataframe\n",
    "- Convert the array to a list and set it to `artist_data`"
   ]
  },
  {
   "cell_type": "code",
   "execution_count": 12,
   "metadata": {
    "editable": true
   },
   "outputs": [
    {
     "data": {
      "text/plain": [
       "array(['ARKRRTF1187B9984DA', 'Sonora Santanera', '', None, None], dtype=object)"
      ]
     },
     "execution_count": 12,
     "metadata": {},
     "output_type": "execute_result"
    }
   ],
   "source": [
    "artist_data = df[\n",
    "        [\n",
    "            \"artist_id\",\n",
    "            \"artist_name\",\n",
    "            \"artist_location\",\n",
    "            \"artist_latitude\",\n",
    "            \"artist_longitude\",\n",
    "        ]\n",
    "    ].values[0]\n",
    "artist_data"
   ]
  },
  {
   "cell_type": "markdown",
   "metadata": {
    "editable": true
   },
   "source": [
    "#### Insert Record into Artist Table\n",
    "Implement the `artist_table_insert` query in `sql_queries.py` and run the cell below to insert a record for this song's artist into the `artists` table. Remember to run `create_tables.py` before running the cell below to ensure you've created/resetted the `artists` table in the sparkify database."
   ]
  },
  {
   "cell_type": "code",
   "execution_count": 13,
   "metadata": {
    "editable": true
   },
   "outputs": [],
   "source": [
    "cur.execute(artist_table_insert, artist_data)\n",
    "conn.commit()"
   ]
  },
  {
   "cell_type": "markdown",
   "metadata": {
    "editable": true
   },
   "source": [
    "Run `test.ipynb` to see if you've successfully added a record to this table."
   ]
  },
  {
   "cell_type": "markdown",
   "metadata": {
    "editable": true
   },
   "source": [
    "# Process `log_data`\n",
    "In this part, you'll perform ETL on the second dataset, `log_data`, to create the `time` and `users` dimensional tables, as well as the `songplays` fact table.\n",
    "\n",
    "Let's perform ETL on a single log file and load a single record into each table.\n",
    "- Use the `get_files` function provided above to get a list of all log JSON files in `data/log_data`\n",
    "- Select the first log file in this list\n",
    "- Read the log file and view the data"
   ]
  },
  {
   "cell_type": "code",
   "execution_count": 14,
   "metadata": {
    "editable": true
   },
   "outputs": [],
   "source": [
    "log_files = get_files('data/log_data')"
   ]
  },
  {
   "cell_type": "code",
   "execution_count": 15,
   "metadata": {
    "editable": true
   },
   "outputs": [],
   "source": [
    "filepath = log_files[-1]"
   ]
  },
  {
   "cell_type": "code",
   "execution_count": 16,
   "metadata": {
    "editable": true
   },
   "outputs": [
    {
     "data": {
      "text/html": [
       "<div>\n",
       "<style scoped>\n",
       "    .dataframe tbody tr th:only-of-type {\n",
       "        vertical-align: middle;\n",
       "    }\n",
       "\n",
       "    .dataframe tbody tr th {\n",
       "        vertical-align: top;\n",
       "    }\n",
       "\n",
       "    .dataframe thead th {\n",
       "        text-align: right;\n",
       "    }\n",
       "</style>\n",
       "<table border=\"1\" class=\"dataframe\">\n",
       "  <thead>\n",
       "    <tr style=\"text-align: right;\">\n",
       "      <th></th>\n",
       "      <th>artist</th>\n",
       "      <th>auth</th>\n",
       "      <th>firstName</th>\n",
       "      <th>gender</th>\n",
       "      <th>itemInSession</th>\n",
       "      <th>lastName</th>\n",
       "      <th>length</th>\n",
       "      <th>level</th>\n",
       "      <th>location</th>\n",
       "      <th>method</th>\n",
       "      <th>page</th>\n",
       "      <th>registration</th>\n",
       "      <th>sessionId</th>\n",
       "      <th>song</th>\n",
       "      <th>status</th>\n",
       "      <th>ts</th>\n",
       "      <th>userAgent</th>\n",
       "      <th>userId</th>\n",
       "    </tr>\n",
       "  </thead>\n",
       "  <tbody>\n",
       "    <tr>\n",
       "      <th>1</th>\n",
       "      <td>Explosions In The Sky</td>\n",
       "      <td>Logged In</td>\n",
       "      <td>Adelyn</td>\n",
       "      <td>F</td>\n",
       "      <td>0</td>\n",
       "      <td>Jordan</td>\n",
       "      <td>497.475</td>\n",
       "      <td>free</td>\n",
       "      <td>Chicago-Naperville-Elgin, IL-IN-WI</td>\n",
       "      <td>PUT</td>\n",
       "      <td>NextSong</td>\n",
       "      <td>1.54013e+12</td>\n",
       "      <td>458</td>\n",
       "      <td>Your Hand In Mine</td>\n",
       "      <td>200</td>\n",
       "      <td>1542592496796</td>\n",
       "      <td>\"Mozilla/5.0 (Macintosh; Intel Mac OS X 10_9_3...</td>\n",
       "      <td>7</td>\n",
       "    </tr>\n",
       "    <tr>\n",
       "      <th>6</th>\n",
       "      <td>Paul Van Dyk Featuring Jessica Sutta</td>\n",
       "      <td>Logged In</td>\n",
       "      <td>Layla</td>\n",
       "      <td>F</td>\n",
       "      <td>0</td>\n",
       "      <td>Griffin</td>\n",
       "      <td>425.665</td>\n",
       "      <td>paid</td>\n",
       "      <td>Lake Havasu City-Kingman, AZ</td>\n",
       "      <td>PUT</td>\n",
       "      <td>NextSong</td>\n",
       "      <td>1.54106e+12</td>\n",
       "      <td>672</td>\n",
       "      <td>White Lies (Dave Spoon Remix)</td>\n",
       "      <td>200</td>\n",
       "      <td>1542592893796</td>\n",
       "      <td>\"Mozilla/5.0 (Windows NT 6.1; WOW64) AppleWebK...</td>\n",
       "      <td>24</td>\n",
       "    </tr>\n",
       "    <tr>\n",
       "      <th>7</th>\n",
       "      <td>Tim Hughes</td>\n",
       "      <td>Logged In</td>\n",
       "      <td>Layla</td>\n",
       "      <td>F</td>\n",
       "      <td>1</td>\n",
       "      <td>Griffin</td>\n",
       "      <td>323.474</td>\n",
       "      <td>paid</td>\n",
       "      <td>Lake Havasu City-Kingman, AZ</td>\n",
       "      <td>PUT</td>\n",
       "      <td>NextSong</td>\n",
       "      <td>1.54106e+12</td>\n",
       "      <td>672</td>\n",
       "      <td>God of Justice</td>\n",
       "      <td>200</td>\n",
       "      <td>1542593318796</td>\n",
       "      <td>\"Mozilla/5.0 (Windows NT 6.1; WOW64) AppleWebK...</td>\n",
       "      <td>24</td>\n",
       "    </tr>\n",
       "    <tr>\n",
       "      <th>8</th>\n",
       "      <td>David Cassidy &amp; The Partridge Family</td>\n",
       "      <td>Logged In</td>\n",
       "      <td>Layla</td>\n",
       "      <td>F</td>\n",
       "      <td>2</td>\n",
       "      <td>Griffin</td>\n",
       "      <td>227.735</td>\n",
       "      <td>paid</td>\n",
       "      <td>Lake Havasu City-Kingman, AZ</td>\n",
       "      <td>PUT</td>\n",
       "      <td>NextSong</td>\n",
       "      <td>1.54106e+12</td>\n",
       "      <td>672</td>\n",
       "      <td>I'll Meet You Halfway</td>\n",
       "      <td>200</td>\n",
       "      <td>1542593641796</td>\n",
       "      <td>\"Mozilla/5.0 (Windows NT 6.1; WOW64) AppleWebK...</td>\n",
       "      <td>24</td>\n",
       "    </tr>\n",
       "    <tr>\n",
       "      <th>9</th>\n",
       "      <td>Snow Patrol</td>\n",
       "      <td>Logged In</td>\n",
       "      <td>Layla</td>\n",
       "      <td>F</td>\n",
       "      <td>3</td>\n",
       "      <td>Griffin</td>\n",
       "      <td>200.933</td>\n",
       "      <td>paid</td>\n",
       "      <td>Lake Havasu City-Kingman, AZ</td>\n",
       "      <td>PUT</td>\n",
       "      <td>NextSong</td>\n",
       "      <td>1.54106e+12</td>\n",
       "      <td>672</td>\n",
       "      <td>Crack The Shutters</td>\n",
       "      <td>200</td>\n",
       "      <td>1542593868796</td>\n",
       "      <td>\"Mozilla/5.0 (Windows NT 6.1; WOW64) AppleWebK...</td>\n",
       "      <td>24</td>\n",
       "    </tr>\n",
       "  </tbody>\n",
       "</table>\n",
       "</div>"
      ],
      "text/plain": [
       "                                 artist       auth firstName gender  \\\n",
       "1                 Explosions In The Sky  Logged In    Adelyn      F   \n",
       "6  Paul Van Dyk Featuring Jessica Sutta  Logged In     Layla      F   \n",
       "7                            Tim Hughes  Logged In     Layla      F   \n",
       "8  David Cassidy & The Partridge Family  Logged In     Layla      F   \n",
       "9                           Snow Patrol  Logged In     Layla      F   \n",
       "\n",
       "   itemInSession lastName   length level                            location  \\\n",
       "1              0   Jordan  497.475  free  Chicago-Naperville-Elgin, IL-IN-WI   \n",
       "6              0  Griffin  425.665  paid        Lake Havasu City-Kingman, AZ   \n",
       "7              1  Griffin  323.474  paid        Lake Havasu City-Kingman, AZ   \n",
       "8              2  Griffin  227.735  paid        Lake Havasu City-Kingman, AZ   \n",
       "9              3  Griffin  200.933  paid        Lake Havasu City-Kingman, AZ   \n",
       "\n",
       "  method      page registration  sessionId                           song  \\\n",
       "1    PUT  NextSong  1.54013e+12        458              Your Hand In Mine   \n",
       "6    PUT  NextSong  1.54106e+12        672  White Lies (Dave Spoon Remix)   \n",
       "7    PUT  NextSong  1.54106e+12        672                 God of Justice   \n",
       "8    PUT  NextSong  1.54106e+12        672          I'll Meet You Halfway   \n",
       "9    PUT  NextSong  1.54106e+12        672             Crack The Shutters   \n",
       "\n",
       "   status             ts                                          userAgent  \\\n",
       "1     200  1542592496796  \"Mozilla/5.0 (Macintosh; Intel Mac OS X 10_9_3...   \n",
       "6     200  1542592893796  \"Mozilla/5.0 (Windows NT 6.1; WOW64) AppleWebK...   \n",
       "7     200  1542593318796  \"Mozilla/5.0 (Windows NT 6.1; WOW64) AppleWebK...   \n",
       "8     200  1542593641796  \"Mozilla/5.0 (Windows NT 6.1; WOW64) AppleWebK...   \n",
       "9     200  1542593868796  \"Mozilla/5.0 (Windows NT 6.1; WOW64) AppleWebK...   \n",
       "\n",
       "  userId  \n",
       "1      7  \n",
       "6     24  \n",
       "7     24  \n",
       "8     24  \n",
       "9     24  "
      ]
     },
     "execution_count": 16,
     "metadata": {},
     "output_type": "execute_result"
    }
   ],
   "source": [
    "# open log file\n",
    "df = pd.read_json(filepath, lines=True)\n",
    "# replace nan with None\n",
    "df = df.where((pd.notnull(df)), None)\n",
    "df.head()"
   ]
  },
  {
   "cell_type": "markdown",
   "metadata": {
    "editable": true
   },
   "source": [
    "## #3: `time` Table\n",
    "#### Extract Data for Time Table\n",
    "- Filter records by `NextSong` action\n",
    "- Convert the `ts` timestamp column to datetime\n",
    "  - Hint: the current timestamp is in milliseconds\n",
    "- Extract the timestamp, hour, day, week of year, month, year, and weekday from the `ts` column and set `time_data` to a list containing these values in order\n",
    "  - Hint: use pandas' [`dt` attribute](https://pandas.pydata.org/pandas-docs/stable/reference/api/pandas.Series.dt.html) to access easily datetimelike properties.\n",
    "- Specify labels for these columns and set to `column_labels`\n",
    "- Create a dataframe, `time_df,` containing the time data for this file by combining `column_labels` and `time_data` into a dictionary and converting this into a dataframe"
   ]
  },
  {
   "cell_type": "code",
   "execution_count": 17,
   "metadata": {
    "editable": true
   },
   "outputs": [
    {
     "data": {
      "text/html": [
       "<div>\n",
       "<style scoped>\n",
       "    .dataframe tbody tr th:only-of-type {\n",
       "        vertical-align: middle;\n",
       "    }\n",
       "\n",
       "    .dataframe tbody tr th {\n",
       "        vertical-align: top;\n",
       "    }\n",
       "\n",
       "    .dataframe thead th {\n",
       "        text-align: right;\n",
       "    }\n",
       "</style>\n",
       "<table border=\"1\" class=\"dataframe\">\n",
       "  <thead>\n",
       "    <tr style=\"text-align: right;\">\n",
       "      <th></th>\n",
       "      <th>artist</th>\n",
       "      <th>auth</th>\n",
       "      <th>firstName</th>\n",
       "      <th>gender</th>\n",
       "      <th>itemInSession</th>\n",
       "      <th>lastName</th>\n",
       "      <th>length</th>\n",
       "      <th>level</th>\n",
       "      <th>location</th>\n",
       "      <th>method</th>\n",
       "      <th>page</th>\n",
       "      <th>registration</th>\n",
       "      <th>sessionId</th>\n",
       "      <th>song</th>\n",
       "      <th>status</th>\n",
       "      <th>ts</th>\n",
       "      <th>userAgent</th>\n",
       "      <th>userId</th>\n",
       "    </tr>\n",
       "  </thead>\n",
       "  <tbody>\n",
       "    <tr>\n",
       "      <th>1</th>\n",
       "      <td>Explosions In The Sky</td>\n",
       "      <td>Logged In</td>\n",
       "      <td>Adelyn</td>\n",
       "      <td>F</td>\n",
       "      <td>0</td>\n",
       "      <td>Jordan</td>\n",
       "      <td>497.475</td>\n",
       "      <td>free</td>\n",
       "      <td>Chicago-Naperville-Elgin, IL-IN-WI</td>\n",
       "      <td>PUT</td>\n",
       "      <td>NextSong</td>\n",
       "      <td>1.54013e+12</td>\n",
       "      <td>458</td>\n",
       "      <td>Your Hand In Mine</td>\n",
       "      <td>200</td>\n",
       "      <td>1542592496796</td>\n",
       "      <td>\"Mozilla/5.0 (Macintosh; Intel Mac OS X 10_9_3...</td>\n",
       "      <td>7</td>\n",
       "    </tr>\n",
       "    <tr>\n",
       "      <th>6</th>\n",
       "      <td>Paul Van Dyk Featuring Jessica Sutta</td>\n",
       "      <td>Logged In</td>\n",
       "      <td>Layla</td>\n",
       "      <td>F</td>\n",
       "      <td>0</td>\n",
       "      <td>Griffin</td>\n",
       "      <td>425.665</td>\n",
       "      <td>paid</td>\n",
       "      <td>Lake Havasu City-Kingman, AZ</td>\n",
       "      <td>PUT</td>\n",
       "      <td>NextSong</td>\n",
       "      <td>1.54106e+12</td>\n",
       "      <td>672</td>\n",
       "      <td>White Lies (Dave Spoon Remix)</td>\n",
       "      <td>200</td>\n",
       "      <td>1542592893796</td>\n",
       "      <td>\"Mozilla/5.0 (Windows NT 6.1; WOW64) AppleWebK...</td>\n",
       "      <td>24</td>\n",
       "    </tr>\n",
       "    <tr>\n",
       "      <th>7</th>\n",
       "      <td>Tim Hughes</td>\n",
       "      <td>Logged In</td>\n",
       "      <td>Layla</td>\n",
       "      <td>F</td>\n",
       "      <td>1</td>\n",
       "      <td>Griffin</td>\n",
       "      <td>323.474</td>\n",
       "      <td>paid</td>\n",
       "      <td>Lake Havasu City-Kingman, AZ</td>\n",
       "      <td>PUT</td>\n",
       "      <td>NextSong</td>\n",
       "      <td>1.54106e+12</td>\n",
       "      <td>672</td>\n",
       "      <td>God of Justice</td>\n",
       "      <td>200</td>\n",
       "      <td>1542593318796</td>\n",
       "      <td>\"Mozilla/5.0 (Windows NT 6.1; WOW64) AppleWebK...</td>\n",
       "      <td>24</td>\n",
       "    </tr>\n",
       "    <tr>\n",
       "      <th>8</th>\n",
       "      <td>David Cassidy &amp; The Partridge Family</td>\n",
       "      <td>Logged In</td>\n",
       "      <td>Layla</td>\n",
       "      <td>F</td>\n",
       "      <td>2</td>\n",
       "      <td>Griffin</td>\n",
       "      <td>227.735</td>\n",
       "      <td>paid</td>\n",
       "      <td>Lake Havasu City-Kingman, AZ</td>\n",
       "      <td>PUT</td>\n",
       "      <td>NextSong</td>\n",
       "      <td>1.54106e+12</td>\n",
       "      <td>672</td>\n",
       "      <td>I'll Meet You Halfway</td>\n",
       "      <td>200</td>\n",
       "      <td>1542593641796</td>\n",
       "      <td>\"Mozilla/5.0 (Windows NT 6.1; WOW64) AppleWebK...</td>\n",
       "      <td>24</td>\n",
       "    </tr>\n",
       "    <tr>\n",
       "      <th>9</th>\n",
       "      <td>Snow Patrol</td>\n",
       "      <td>Logged In</td>\n",
       "      <td>Layla</td>\n",
       "      <td>F</td>\n",
       "      <td>3</td>\n",
       "      <td>Griffin</td>\n",
       "      <td>200.933</td>\n",
       "      <td>paid</td>\n",
       "      <td>Lake Havasu City-Kingman, AZ</td>\n",
       "      <td>PUT</td>\n",
       "      <td>NextSong</td>\n",
       "      <td>1.54106e+12</td>\n",
       "      <td>672</td>\n",
       "      <td>Crack The Shutters</td>\n",
       "      <td>200</td>\n",
       "      <td>1542593868796</td>\n",
       "      <td>\"Mozilla/5.0 (Windows NT 6.1; WOW64) AppleWebK...</td>\n",
       "      <td>24</td>\n",
       "    </tr>\n",
       "  </tbody>\n",
       "</table>\n",
       "</div>"
      ],
      "text/plain": [
       "                                 artist       auth firstName gender  \\\n",
       "1                 Explosions In The Sky  Logged In    Adelyn      F   \n",
       "6  Paul Van Dyk Featuring Jessica Sutta  Logged In     Layla      F   \n",
       "7                            Tim Hughes  Logged In     Layla      F   \n",
       "8  David Cassidy & The Partridge Family  Logged In     Layla      F   \n",
       "9                           Snow Patrol  Logged In     Layla      F   \n",
       "\n",
       "   itemInSession lastName   length level                            location  \\\n",
       "1              0   Jordan  497.475  free  Chicago-Naperville-Elgin, IL-IN-WI   \n",
       "6              0  Griffin  425.665  paid        Lake Havasu City-Kingman, AZ   \n",
       "7              1  Griffin  323.474  paid        Lake Havasu City-Kingman, AZ   \n",
       "8              2  Griffin  227.735  paid        Lake Havasu City-Kingman, AZ   \n",
       "9              3  Griffin  200.933  paid        Lake Havasu City-Kingman, AZ   \n",
       "\n",
       "  method      page registration  sessionId                           song  \\\n",
       "1    PUT  NextSong  1.54013e+12        458              Your Hand In Mine   \n",
       "6    PUT  NextSong  1.54106e+12        672  White Lies (Dave Spoon Remix)   \n",
       "7    PUT  NextSong  1.54106e+12        672                 God of Justice   \n",
       "8    PUT  NextSong  1.54106e+12        672          I'll Meet You Halfway   \n",
       "9    PUT  NextSong  1.54106e+12        672             Crack The Shutters   \n",
       "\n",
       "   status             ts                                          userAgent  \\\n",
       "1     200  1542592496796  \"Mozilla/5.0 (Macintosh; Intel Mac OS X 10_9_3...   \n",
       "6     200  1542592893796  \"Mozilla/5.0 (Windows NT 6.1; WOW64) AppleWebK...   \n",
       "7     200  1542593318796  \"Mozilla/5.0 (Windows NT 6.1; WOW64) AppleWebK...   \n",
       "8     200  1542593641796  \"Mozilla/5.0 (Windows NT 6.1; WOW64) AppleWebK...   \n",
       "9     200  1542593868796  \"Mozilla/5.0 (Windows NT 6.1; WOW64) AppleWebK...   \n",
       "\n",
       "  userId  \n",
       "1      7  \n",
       "6     24  \n",
       "7     24  \n",
       "8     24  \n",
       "9     24  "
      ]
     },
     "execution_count": 17,
     "metadata": {},
     "output_type": "execute_result"
    }
   ],
   "source": [
    "df = df.loc[df[\"page\"] == \"NextSong\"]\n",
    "df.head()"
   ]
  },
  {
   "cell_type": "code",
   "execution_count": 18,
   "metadata": {
    "editable": true
   },
   "outputs": [
    {
     "data": {
      "text/plain": [
       "1   2018-11-19 01:54:56.796\n",
       "6   2018-11-19 02:01:33.796\n",
       "7   2018-11-19 02:08:38.796\n",
       "8   2018-11-19 02:14:01.796\n",
       "9   2018-11-19 02:17:48.796\n",
       "Name: ts, dtype: datetime64[ns]"
      ]
     },
     "execution_count": 18,
     "metadata": {},
     "output_type": "execute_result"
    }
   ],
   "source": [
    "t = pd.to_datetime(df.ts, unit=\"ms\")\n",
    "t.head()"
   ]
  },
  {
   "cell_type": "code",
   "execution_count": 19,
   "metadata": {
    "editable": true
   },
   "outputs": [],
   "source": [
    "time_data = pd.concat(\n",
    "        [t, t.dt.hour, t.dt.day, t.dt.week, t.dt.month, t.dt.year, t.dt.weekday], axis=1  # noqa\n",
    "    )\n",
    "column_labels = [\"start_time\", \"hour\", \"day\", \"week\", \"month\", \"year\", \"weekday\"]  # noqa"
   ]
  },
  {
   "cell_type": "code",
   "execution_count": 20,
   "metadata": {
    "editable": true
   },
   "outputs": [
    {
     "data": {
      "text/html": [
       "<div>\n",
       "<style scoped>\n",
       "    .dataframe tbody tr th:only-of-type {\n",
       "        vertical-align: middle;\n",
       "    }\n",
       "\n",
       "    .dataframe tbody tr th {\n",
       "        vertical-align: top;\n",
       "    }\n",
       "\n",
       "    .dataframe thead th {\n",
       "        text-align: right;\n",
       "    }\n",
       "</style>\n",
       "<table border=\"1\" class=\"dataframe\">\n",
       "  <thead>\n",
       "    <tr style=\"text-align: right;\">\n",
       "      <th></th>\n",
       "      <th>start_time</th>\n",
       "      <th>hour</th>\n",
       "      <th>day</th>\n",
       "      <th>week</th>\n",
       "      <th>month</th>\n",
       "      <th>year</th>\n",
       "      <th>weekday</th>\n",
       "    </tr>\n",
       "  </thead>\n",
       "  <tbody>\n",
       "    <tr>\n",
       "      <th>0</th>\n",
       "      <td>2018-11-19 01:54:56.796000</td>\n",
       "      <td>1</td>\n",
       "      <td>19</td>\n",
       "      <td>47</td>\n",
       "      <td>11</td>\n",
       "      <td>2018</td>\n",
       "      <td>0</td>\n",
       "    </tr>\n",
       "    <tr>\n",
       "      <th>1</th>\n",
       "      <td>2018-11-19 02:01:33.796000</td>\n",
       "      <td>2</td>\n",
       "      <td>19</td>\n",
       "      <td>47</td>\n",
       "      <td>11</td>\n",
       "      <td>2018</td>\n",
       "      <td>0</td>\n",
       "    </tr>\n",
       "    <tr>\n",
       "      <th>2</th>\n",
       "      <td>2018-11-19 02:08:38.796000</td>\n",
       "      <td>2</td>\n",
       "      <td>19</td>\n",
       "      <td>47</td>\n",
       "      <td>11</td>\n",
       "      <td>2018</td>\n",
       "      <td>0</td>\n",
       "    </tr>\n",
       "    <tr>\n",
       "      <th>3</th>\n",
       "      <td>2018-11-19 02:14:01.796000</td>\n",
       "      <td>2</td>\n",
       "      <td>19</td>\n",
       "      <td>47</td>\n",
       "      <td>11</td>\n",
       "      <td>2018</td>\n",
       "      <td>0</td>\n",
       "    </tr>\n",
       "    <tr>\n",
       "      <th>4</th>\n",
       "      <td>2018-11-19 02:17:48.796000</td>\n",
       "      <td>2</td>\n",
       "      <td>19</td>\n",
       "      <td>47</td>\n",
       "      <td>11</td>\n",
       "      <td>2018</td>\n",
       "      <td>0</td>\n",
       "    </tr>\n",
       "  </tbody>\n",
       "</table>\n",
       "</div>"
      ],
      "text/plain": [
       "                   start_time hour day week month  year weekday\n",
       "0  2018-11-19 01:54:56.796000    1  19   47    11  2018       0\n",
       "1  2018-11-19 02:01:33.796000    2  19   47    11  2018       0\n",
       "2  2018-11-19 02:08:38.796000    2  19   47    11  2018       0\n",
       "3  2018-11-19 02:14:01.796000    2  19   47    11  2018       0\n",
       "4  2018-11-19 02:17:48.796000    2  19   47    11  2018       0"
      ]
     },
     "execution_count": 20,
     "metadata": {},
     "output_type": "execute_result"
    }
   ],
   "source": [
    "time_df = pd.DataFrame(data=time_data.values, columns=column_labels)\n",
    "time_df.head()"
   ]
  },
  {
   "cell_type": "markdown",
   "metadata": {
    "editable": true
   },
   "source": [
    "#### Insert Records into Time Table\n",
    "Implement the `time_table_insert` query in `sql_queries.py` and run the cell below to insert records for the timestamps in this log file into the `time` table. Remember to run `create_tables.py` before running the cell below to ensure you've created/resetted the `time` table in the sparkify database."
   ]
  },
  {
   "cell_type": "code",
   "execution_count": 21,
   "metadata": {
    "editable": true
   },
   "outputs": [],
   "source": [
    "for i, row in time_df.iterrows():\n",
    "    cur.execute(time_table_insert, list(row))\n",
    "    conn.commit()"
   ]
  },
  {
   "cell_type": "markdown",
   "metadata": {
    "editable": true
   },
   "source": [
    "Run `test.ipynb` to see if you've successfully added records to this table."
   ]
  },
  {
   "cell_type": "markdown",
   "metadata": {
    "editable": true
   },
   "source": [
    "## #4: `users` Table\n",
    "#### Extract Data for Users Table\n",
    "- Select columns for user ID, first name, last name, gender and level and set to `user_df`"
   ]
  },
  {
   "cell_type": "code",
   "execution_count": 22,
   "metadata": {
    "editable": true
   },
   "outputs": [],
   "source": [
    "user_df = df[[\"userId\", \"firstName\", \"lastName\", \"gender\", \"level\"]]"
   ]
  },
  {
   "cell_type": "markdown",
   "metadata": {
    "editable": true
   },
   "source": [
    "#### Insert Records into Users Table\n",
    "Implement the `user_table_insert` query in `sql_queries.py` and run the cell below to insert records for the users in this log file into the `users` table. Remember to run `create_tables.py` before running the cell below to ensure you've created/resetted the `users` table in the sparkify database."
   ]
  },
  {
   "cell_type": "code",
   "execution_count": 23,
   "metadata": {
    "editable": true
   },
   "outputs": [],
   "source": [
    "for i, row in user_df.iterrows():\n",
    "    cur.execute(user_table_insert, row)\n",
    "    conn.commit()"
   ]
  },
  {
   "cell_type": "markdown",
   "metadata": {
    "editable": true
   },
   "source": [
    "Run `test.ipynb` to see if you've successfully added records to this table."
   ]
  },
  {
   "cell_type": "markdown",
   "metadata": {
    "editable": true
   },
   "source": [
    "## #5: `songplays` Table\n",
    "#### Extract Data and Songplays Table\n",
    "This one is a little more complicated since information from the songs table, artists table, and original log file are all needed for the `songplays` table. Since the log file does not specify an ID for either the song or the artist, you'll need to get the song ID and artist ID by querying the songs and artists tables to find matches based on song title, artist name, and song duration time.\n",
    "- Implement the `song_select` query in `sql_queries.py` to find the song ID and artist ID based on the title, artist name, and duration of a song.\n",
    "- Select the timestamp, user ID, level, song ID, artist ID, session ID, location, and user agent and set to `songplay_data`\n",
    "\n",
    "#### Insert Records into Songplays Table\n",
    "- Implement the `songplay_table_insert` query and run the cell below to insert records for the songplay actions in this log file into the `songplays` table. Remember to run `create_tables.py` before running the cell below to ensure you've created/resetted the `songplays` table in the sparkify database."
   ]
  },
  {
   "cell_type": "code",
   "execution_count": 24,
   "metadata": {
    "editable": true
   },
   "outputs": [],
   "source": [
    "# insert songplay records\n",
    "for index, row in df.iterrows():\n",
    "\n",
    "    # get song_id and artist_id from song and artist tables\n",
    "    results = cur.execute(song_select, (row.song, row.artist, row.length))\n",
    "    song_id, artist_id = results if results else None, None\n",
    "\n",
    "    # insert songplay record\n",
    "    songplay_data = (\n",
    "        pd.to_datetime(row.ts, unit=\"ms\"),\n",
    "        row.userId,\n",
    "        row.level,\n",
    "        song_id,\n",
    "        artist_id,\n",
    "        row.sessionId,\n",
    "        row.location,\n",
    "        row.userAgent,\n",
    "    )\n",
    "    conn.commit()"
   ]
  },
  {
   "cell_type": "markdown",
   "metadata": {
    "editable": true
   },
   "source": [
    "Run `test.ipynb` to see if you've successfully added records to this table."
   ]
  },
  {
   "cell_type": "markdown",
   "metadata": {
    "editable": true
   },
   "source": [
    "# Close Connection to Sparkify Database"
   ]
  },
  {
   "cell_type": "code",
   "execution_count": 25,
   "metadata": {
    "editable": true
   },
   "outputs": [],
   "source": [
    "conn.close()"
   ]
  },
  {
   "cell_type": "markdown",
   "metadata": {
    "editable": true
   },
   "source": [
    "# Implement `etl.py`\n",
    "Use what you've completed in this notebook to implement `etl.py`."
   ]
  },
  {
   "cell_type": "code",
   "execution_count": null,
   "metadata": {
    "editable": true
   },
   "outputs": [],
   "source": []
  }
 ],
 "metadata": {
  "kernelspec": {
   "display_name": "Python 3",
   "language": "python",
   "name": "python3"
  },
  "language_info": {
   "codemirror_mode": {
    "name": "ipython",
    "version": 3
   },
   "file_extension": ".py",
   "mimetype": "text/x-python",
   "name": "python",
   "nbconvert_exporter": "python",
   "pygments_lexer": "ipython3",
   "version": "3.6.3"
  }
 },
 "nbformat": 4,
 "nbformat_minor": 4
}
